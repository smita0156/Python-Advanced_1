{
 "cells": [
  {
   "cell_type": "code",
   "execution_count": null,
   "id": "7b158007-f7ce-46d7-960d-4d3cd848f09b",
   "metadata": {},
   "outputs": [],
   "source": [
    "Q1. What is the purpose of Python&#39;s OOP?"
   ]
  },
  {
   "cell_type": "code",
   "execution_count": null,
   "id": "4201f74a-1c24-486a-93bd-a1fa7f587718",
   "metadata": {},
   "outputs": [],
   "source": [
    "We use OOP concepts in Python programs because it makes code more reusable and easier to work with larger programs. OOP programs prevent you from repeating code because a class can be defined once and reused many times. Beginners can learn Python using the free course on Introduction to Python."
   ]
  },
  {
   "cell_type": "code",
   "execution_count": null,
   "id": "2b74051b-608c-4c8c-91f8-9614ad90e512",
   "metadata": {},
   "outputs": [],
   "source": [
    "Q2. Where does an inheritance search look for an attribute?"
   ]
  },
  {
   "cell_type": "code",
   "execution_count": null,
   "id": "dfd9665a-2fab-4e28-94e1-5c2158e128cb",
   "metadata": {},
   "outputs": [],
   "source": [
    "The whole point of a namespace tool like the class statement is to support name inheritance. In Python, inheritance happens when an object is qualified, and involves searching an attribute definition tree (one or more namespaces)."
   ]
  },
  {
   "cell_type": "code",
   "execution_count": null,
   "id": "a22f5c04-564c-477a-8307-92dcbc5aa81d",
   "metadata": {},
   "outputs": [],
   "source": [
    "Q3. How do you distinguish between a class object and an instance object?"
   ]
  },
  {
   "cell_type": "code",
   "execution_count": null,
   "id": "98b77992-2dc3-40d3-9b9d-9b3f2995b605",
   "metadata": {},
   "outputs": [],
   "source": [
    "The class = the blue print. The Object is an actual thing that is built based on the 'blue print' (like the house). An instance is a virtual copy (but not a real copy) of the object."
   ]
  },
  {
   "cell_type": "code",
   "execution_count": null,
   "id": "273bb30f-fd48-40f1-90df-f7cf50e9ab76",
   "metadata": {},
   "outputs": [],
   "source": [
    "Q4. What makes the first argument in a class’s method function special?"
   ]
  },
  {
   "cell_type": "code",
   "execution_count": null,
   "id": "b1e4f6dc-05c7-44a3-86c6-8fde459d9bc5",
   "metadata": {},
   "outputs": [],
   "source": [
    "Whenever you call a method of an object created from a class, the object is automatically passed as the first argument using the “self” parameter. This enables you to modify the object's properties and execute tasks unique to that particular instance."
   ]
  },
  {
   "cell_type": "code",
   "execution_count": null,
   "id": "2a9f9718-a91f-44a8-b94a-ffd343565466",
   "metadata": {},
   "outputs": [],
   "source": [
    "Q5. What is the purpose of the __init__ method?"
   ]
  },
  {
   "cell_type": "code",
   "execution_count": null,
   "id": "54783e11-2cff-4e1c-a4e7-4195dfde0a97",
   "metadata": {},
   "outputs": [],
   "source": [
    "In Python, __init__ is an instance method that initializes a newly created object. It takes the object as its first argument followed by additional arguments. The method takes the object as its first argument (self), followed by any additional arguments that need to be passed to it."
   ]
  },
  {
   "cell_type": "code",
   "execution_count": null,
   "id": "82236f5b-4437-4f3e-985b-db30befe214a",
   "metadata": {},
   "outputs": [],
   "source": [
    "Q6. What is the process for creating a class instance?"
   ]
  },
  {
   "cell_type": "code",
   "execution_count": null,
   "id": "66325b51-44d0-476b-ac3d-2607b49ab2f0",
   "metadata": {},
   "outputs": [],
   "source": [
    "When you create an object, you are creating an instance of a class, therefore \"instantiating\" a class. The new operator requires a single, postfix argument: a call to a constructor. The name of the constructor provides the name of the class to instantiate."
   ]
  },
  {
   "cell_type": "code",
   "execution_count": null,
   "id": "685a760c-5963-4d33-b06f-0413d9fe1338",
   "metadata": {},
   "outputs": [],
   "source": [
    "Q7. What is the process for creating a class?"
   ]
  },
  {
   "cell_type": "code",
   "execution_count": null,
   "id": "a98a5357-c7d9-44a9-9723-e8beed0cfef3",
   "metadata": {},
   "outputs": [],
   "source": [
    "Creating a Class in Python\n",
    "Classes are created using class keyword.\n",
    "A colon (:) is used after the class name.\n",
    "The class is made up of attributes (data) and methods (functions).\n",
    "Attributes that apply to the whole class are defined first and are called class attributes .\n",
    "Attributes can be accessed using the dot (.)"
   ]
  },
  {
   "cell_type": "code",
   "execution_count": null,
   "id": "1a530c62-689b-4c16-8c1c-331cac602439",
   "metadata": {},
   "outputs": [],
   "source": [
    "Q8. How would you define the superclasses of a class?"
   ]
  },
  {
   "cell_type": "code",
   "execution_count": null,
   "id": "60a8ccb0-e281-4335-85da-b7e149198823",
   "metadata": {},
   "outputs": [],
   "source": [
    "A class that is derived from another class is called a subclass (also a derived class, extended class, or child class). The class from which the subclass is derived is called a superclass (also a base class or a parent class)."
   ]
  }
 ],
 "metadata": {
  "kernelspec": {
   "display_name": "Python 3 (ipykernel)",
   "language": "python",
   "name": "python3"
  },
  "language_info": {
   "codemirror_mode": {
    "name": "ipython",
    "version": 3
   },
   "file_extension": ".py",
   "mimetype": "text/x-python",
   "name": "python",
   "nbconvert_exporter": "python",
   "pygments_lexer": "ipython3",
   "version": "3.10.6"
  }
 },
 "nbformat": 4,
 "nbformat_minor": 5
}
